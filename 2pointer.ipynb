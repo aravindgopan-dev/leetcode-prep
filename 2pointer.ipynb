{
 "cells": [
  {
   "cell_type": "markdown",
   "metadata": {},
   "source": [
    "15. 3Sum\n"
   ]
  },
  {
   "cell_type": "code",
   "execution_count": 5,
   "metadata": {},
   "outputs": [
    {
     "name": "stdout",
     "output_type": "stream",
     "text": [
      "[[-1, -1, 2], [-1, 0, 1]]\n"
     ]
    }
   ],
   "source": [
    "nums = [-1,0,1,2,-1,-4]\n",
    "nums.sort()\n",
    "ans=[]\n",
    "for i in range(len(nums)):\n",
    "    \n",
    "    x=nums[i]\n",
    "    \n",
    "    l,r=i+1,len(nums)-1\n",
    "    \n",
    "    while l<r:\n",
    "        s=x+nums[l]+nums[r]\n",
    "        if s==0:\n",
    "            if [x,nums[l],nums[r]] not in ans: \n",
    "                ans.append([x,nums[l],nums[r]])\n",
    "            l+=1\n",
    "            r+=-1\n",
    "        elif s<0:\n",
    "            l+=1\n",
    "        else:\n",
    "            r-=1\n",
    "            \n",
    "            \n",
    "        \n",
    "    \n",
    "    \n",
    "print(ans)\n"
   ]
  },
  {
   "cell_type": "markdown",
   "metadata": {},
   "source": [
    "16. 3Sum Closest\n"
   ]
  },
  {
   "cell_type": "code",
   "execution_count": null,
   "metadata": {},
   "outputs": [],
   "source": []
  }
 ],
 "metadata": {
  "kernelspec": {
   "display_name": "Python 3",
   "language": "python",
   "name": "python3"
  },
  "language_info": {
   "codemirror_mode": {
    "name": "ipython",
    "version": 3
   },
   "file_extension": ".py",
   "mimetype": "text/x-python",
   "name": "python",
   "nbconvert_exporter": "python",
   "pygments_lexer": "ipython3",
   "version": "3.12.3"
  }
 },
 "nbformat": 4,
 "nbformat_minor": 2
}
