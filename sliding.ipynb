{
 "cells": [
  {
   "cell_type": "markdown",
   "metadata": {},
   "source": [
    "Longest Substring with K Uniques"
   ]
  },
  {
   "cell_type": "code",
   "execution_count": 13,
   "metadata": {},
   "outputs": [
    {
     "name": "stdout",
     "output_type": "stream",
     "text": [
      "7\n"
     ]
    }
   ],
   "source": [
    "s = \"aabaaab\"\n",
    "k = 2\n",
    "ans=-1\n",
    "\n",
    "l=0\n",
    "map={}\n",
    "for i in range(len(s)):\n",
    "    if s[i] not in map:\n",
    "        map[s[i]]=1\n",
    "    else:\n",
    "        map[s[i]]+=1\n",
    "        \n",
    "    while len(map)>k and l<=i:\n",
    "        map[s[l]]-=1\n",
    "        if map[s[l]]==0:\n",
    "            del map[s[l]]\n",
    "        l+=1\n",
    "    if len(map)==k:         \n",
    "        ans=max(ans,i-l+1)\n",
    "    \n",
    "print(ans)\n",
    "\n"
   ]
  },
  {
   "cell_type": "markdown",
   "metadata": {},
   "source": [
    "Longest Substring Without Repeating\n"
   ]
  },
  {
   "cell_type": "code",
   "execution_count": 19,
   "metadata": {},
   "outputs": [
    {
     "name": "stdout",
     "output_type": "stream",
     "text": [
      "b {'b': 1}\n",
      "b {'b': 1}\n",
      "b {'b': 1}\n"
     ]
    }
   ],
   "source": [
    "s = \"bbb\"\n",
    "\n",
    "l=0\n",
    "map={}\n",
    "for i in range(len(s)):\n",
    "    if s[i] not in map:\n",
    "        map[s[i]]=1\n",
    "    else:\n",
    "        map[s[i]]+=1\n",
    "        \n",
    "        \n",
    "    while i-l+1 >len(map) and l<=i:\n",
    "        map[s[l]]-=1\n",
    "        if map[s[l]]==0:\n",
    "            del map[s[l]]\n",
    "        l+=1\n",
    "        \n",
    "    print(s[l:i+1],map)\n",
    "    \n"
   ]
  },
  {
   "cell_type": "markdown",
   "metadata": {},
   "source": [
    "209. Minimum Size Subarray Sum\n"
   ]
  },
  {
   "cell_type": "code",
   "execution_count": 28,
   "metadata": {},
   "outputs": [
    {
     "name": "stdout",
     "output_type": "stream",
     "text": [
      "2\n"
     ]
    }
   ],
   "source": [
    "target = 7\n",
    "nums = [2,3,1,2,4,3]\n",
    "ans=float(\"inf\")\n",
    "\n",
    "l=0\n",
    "totalsum=0\n",
    "\n",
    "for i in range(len(nums)):\n",
    "    totalsum+=nums[i]\n",
    "\n",
    "    while totalsum >=target and l<=i:\n",
    "        ans=min(i-l+1,ans)\n",
    "        totalsum-=nums[l]\n",
    "        l+=1\n",
    "        \n",
    "print(ans)\n",
    "    \n"
   ]
  },
  {
   "cell_type": "markdown",
   "metadata": {},
   "source": [
    "Maximum Number of Vowels in a Substring of Given "
   ]
  },
  {
   "cell_type": "code",
   "execution_count": null,
   "metadata": {},
   "outputs": [
    {
     "name": "stdout",
     "output_type": "stream",
     "text": [
      "2\n"
     ]
    }
   ],
   "source": [
    "s = \"leetcode\"\n",
    "k = 3\n",
    "ans=0\n",
    "count=0\n",
    "l=0\n",
    "for i in range(len(s)):\n",
    "    if s[i]==\"a\" or s[i]==\"e\" or s[i]==\"i\" or s[i]==\"o\" or s[i]==\"u\":\n",
    "        count+=1\n",
    "    \n",
    "    if (i>=k-1):\n",
    "        ans=max(ans,count)\n",
    "        if s[l]==\"a\" or s[l]==\"e\" or s[l]==\"i\" or s[l]==\"o\" or s[l]==\"u\":\n",
    "            count-=1\n",
    "        l+=1\n",
    "print(ans)\n",
    "        \n",
    "        \n"
   ]
  },
  {
   "cell_type": "markdown",
   "metadata": {},
   "source": [
    "fruit into baset"
   ]
  },
  {
   "cell_type": "code",
   "execution_count": 51,
   "metadata": {},
   "outputs": [
    {
     "name": "stdout",
     "output_type": "stream",
     "text": [
      "4\n"
     ]
    }
   ],
   "source": [
    "fruits = [1,2,3,2,2]\n",
    "\n",
    "\n",
    "map={}\n",
    "l=0\n",
    "count=0\n",
    "for i in range(len(fruits)):\n",
    "    if fruits[i] not in map:\n",
    "        map[fruits[i]]=1\n",
    "    else:\n",
    "        map[fruits[i]]+=1\n",
    "        \n",
    "    while len(map)>2:\n",
    "        map[fruits[l]]-=1\n",
    "        if map[fruits[l]]==0:\n",
    "            del map[fruits[l]]\n",
    "        l+=1\n",
    "    count=max((i-l+1),count)\n",
    "print(count)\n"
   ]
  },
  {
   "cell_type": "markdown",
   "metadata": {},
   "source": [
    "1248. Count Number of Nice Subarrays\n"
   ]
  },
  {
   "cell_type": "code",
   "execution_count": null,
   "metadata": {},
   "outputs": [
    {
     "name": "stdout",
     "output_type": "stream",
     "text": [
      "[2, 2, 2, 1, 2, 2, 1]\n",
      "[2, 2, 2, 1, 2, 2, 1, 2]\n",
      "[2, 2, 2, 1, 2, 2, 1, 2, 2]\n",
      "[2, 2, 2, 1, 2, 2, 1, 2, 2, 2]\n",
      "2\n"
     ]
    }
   ],
   "source": [
    "nums = [2,2,2,1,2,2,1,2,2,2]\n",
    "k = 2\n",
    "\n",
    "\n",
    "l=0\n",
    "count=0\n",
    "ans=0\n",
    "\n",
    "for i in range(len(nums)):\n",
    "    \n",
    "    if nums[i]%2!=0:\n",
    "        count+=1\n",
    "        \n",
    "    if count==k:\n",
    "        count+=(1+len(nums)-i)\n",
    "    print(ans)\n"
   ]
  },
  {
   "cell_type": "markdown",
   "metadata": {},
   "source": [
    "1358. Number of Substrings Containing All Three Characters"
   ]
  },
  {
   "cell_type": "code",
   "execution_count": null,
   "metadata": {},
   "outputs": [
    {
     "name": "stdout",
     "output_type": "stream",
     "text": [
      "3\n"
     ]
    }
   ],
   "source": [
    "s = \"aaacb\"\n",
    "\n",
    "map={}\n",
    "l=0\n",
    "ans=0\n",
    "for i in range(len(s)):\n",
    "    if s[i] not in map:\n",
    "        map[s[i]]=1\n",
    "    else:\n",
    "        map[s[i]]+=1\n",
    "        \n",
    "        \n",
    "        \n",
    "    while len(map)>=3:\n",
    "        ans+=len(s)-i\n",
    "        # print(s[l:i+1],len(s)-i)\n",
    "        \n",
    "        map[s[l]]-=1\n",
    "        if map[s[l]]==0:\n",
    "            del map[s[l]]\n",
    "        l+=1\n",
    "print(ans)\n"
   ]
  },
  {
   "cell_type": "markdown",
   "metadata": {},
   "source": [
    "Longest Repeating Character Replacement "
   ]
  },
  {
   "cell_type": "code",
   "execution_count": 143,
   "metadata": {},
   "outputs": [
    {
     "name": "stdout",
     "output_type": "stream",
     "text": [
      "4\n"
     ]
    }
   ],
   "source": [
    "s = \"AABABBA\"\n",
    "k = 1\n",
    "t=k\n",
    "map={}\n",
    "l=0\n",
    "max_count=0\n",
    "res=0\n",
    "for i in range(len(s)):\n",
    "    if s[i] not in map:\n",
    "        map[s[i]]=1\n",
    "    else:\n",
    "        map[s[i]]+=1\n",
    "        \n",
    "    while (i-l+1)-max(map.values())>k:\n",
    "        map[s[l]]-=1\n",
    "        l+=1\n",
    "    res=max(res,i-l+1)\n",
    "print(res)\n"
   ]
  },
  {
   "cell_type": "code",
   "execution_count": 165,
   "metadata": {},
   "outputs": [
    {
     "name": "stdout",
     "output_type": "stream",
     "text": [
      "[1, 2]\n",
      "[1, 2, 1]\n",
      "[1, 2, 1, 2]\n",
      "[2, 3]\n"
     ]
    }
   ],
   "source": [
    "nums = [1,2,1,2,3]\n",
    "k = 2\n",
    "map={}\n",
    "l=0\n",
    "for i in range(len(nums)):\n",
    "    if nums[i] not in  map:\n",
    "        map[nums[i]]=1\n",
    "    else:\n",
    "        map[nums[i]]+=1\n",
    "\n",
    "    # while i-l >len(map):\n",
    "\n",
    "    while len(map)>k:\n",
    "        map[nums[l]]-=1\n",
    "        if map[nums[l]]==0:\n",
    "            del map[nums[l]]\n",
    "        l+=1\n",
    "\n",
    "    if len(map)==k:\n",
    "        print(nums[l:i+1])\n",
    "        \n",
    "    \n"
   ]
  },
  {
   "cell_type": "markdown",
   "metadata": {},
   "source": [
    "1493. Longest Subarray of 1's After Deleting One Element"
   ]
  },
  {
   "cell_type": "code",
   "execution_count": 177,
   "metadata": {},
   "outputs": [
    {
     "name": "stdout",
     "output_type": "stream",
     "text": [
      "5\n"
     ]
    }
   ],
   "source": [
    "nums = [0,1,1,1,0,1,1,0,1]\n",
    "l=0\n",
    "count=1\n",
    "max_len=0\n",
    "for r in range(len(nums)):\n",
    "    if nums[r]==0:\n",
    "        count-=1\n",
    "        while count<=-1:\n",
    "            if nums[l]==0:\n",
    "                count+=1\n",
    "            l+=1\n",
    "    max_len=max(max_len,r-l)\n",
    "print(max_len)\n"
   ]
  },
  {
   "cell_type": "markdown",
   "metadata": {},
   "source": [
    "mimum window substring"
   ]
  },
  {
   "cell_type": "code",
   "execution_count": null,
   "metadata": {},
   "outputs": [
    {
     "name": "stdout",
     "output_type": "stream",
     "text": [
      "{'A': 2, 'D': 2, 'O': 2, 'B': 2, 'E': 2, 'C': 2, 'N': 1}\n"
     ]
    }
   ],
   "source": [
    "s = \"ADOBECODEBANC\"\n",
    "t = \"ABC\"\n",
    "\n",
    "map={}\n",
    "for i in range(len(s)):\n",
    "    if s[i] not in map:\n",
    "        map[s[i]]=1\n",
    "    else:\n",
    "        map[s[i]]+=1\n",
    "\n",
    "\n",
    "print(map)\n"
   ]
  },
  {
   "cell_type": "code",
   "execution_count": 180,
   "metadata": {},
   "outputs": [
    {
     "ename": "TypeError",
     "evalue": "unhashable type: 'set'",
     "output_type": "error",
     "traceback": [
      "\u001b[0;31m---------------------------------------------------------------------------\u001b[0m",
      "\u001b[0;31mTypeError\u001b[0m                                 Traceback (most recent call last)",
      "Cell \u001b[0;32mIn[180], line 4\u001b[0m\n\u001b[1;32m      1\u001b[0m seen\u001b[38;5;241m=\u001b[39m\u001b[38;5;28mset\u001b[39m(\u001b[38;5;124m\"\u001b[39m\u001b[38;5;124ma\u001b[39m\u001b[38;5;124m\"\u001b[39m)\n\u001b[1;32m      2\u001b[0m \u001b[38;5;28mmap\u001b[39m\u001b[38;5;241m=\u001b[39m{\u001b[38;5;124m\"\u001b[39m\u001b[38;5;124ma\u001b[39m\u001b[38;5;124m\"\u001b[39m:\u001b[38;5;241m1\u001b[39m}\n\u001b[0;32m----> 4\u001b[0m \u001b[38;5;28mprint\u001b[39m(\u001b[43mseen\u001b[49m\u001b[43m \u001b[49m\u001b[38;5;129;43;01min\u001b[39;49;00m\u001b[43m \u001b[49m\u001b[38;5;28;43mmap\u001b[39;49m)\n",
      "\u001b[0;31mTypeError\u001b[0m: unhashable type: 'set'"
     ]
    }
   ],
   "source": [
    "seen=set(\"a\")\n",
    "map={\"a\":1}\n",
    "\n",
    "print(seen in map)\n"
   ]
  },
  {
   "cell_type": "code",
   "execution_count": null,
   "metadata": {},
   "outputs": [],
   "source": []
  }
 ],
 "metadata": {
  "kernelspec": {
   "display_name": "Python 3",
   "language": "python",
   "name": "python3"
  },
  "language_info": {
   "codemirror_mode": {
    "name": "ipython",
    "version": 3
   },
   "file_extension": ".py",
   "mimetype": "text/x-python",
   "name": "python",
   "nbconvert_exporter": "python",
   "pygments_lexer": "ipython3",
   "version": "3.12.3"
  }
 },
 "nbformat": 4,
 "nbformat_minor": 2
}
