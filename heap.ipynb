{
 "cells": [
  {
   "cell_type": "markdown",
   "metadata": {},
   "source": [
    "215. Kth Largest Element in an Array"
   ]
  },
  {
   "cell_type": "code",
   "execution_count": 3,
   "metadata": {},
   "outputs": [
    {
     "name": "stdout",
     "output_type": "stream",
     "text": [
      "5\n"
     ]
    }
   ],
   "source": [
    "import heapq\n",
    "\n",
    "nums = [3,2,1,5,6,4]\n",
    "k = 2\n",
    "\n",
    "heap=[]\n",
    "for  i in range(len(nums)):\n",
    "    heapq.heappush(heap,nums[i])\n",
    "    \n",
    "    if i>=k:\n",
    "        heapq.heappop(heap)\n",
    "print(heap[0])\n",
    "\n",
    "\n"
   ]
  },
  {
   "cell_type": "code",
   "execution_count": 9,
   "metadata": {},
   "outputs": [
    {
     "name": "stdout",
     "output_type": "stream",
     "text": [
      "['Gold Medal', '5', 'Bronze Medal', 'Silver Medal', '4']\n"
     ]
    }
   ],
   "source": [
    "score = [10,3,8,9,4]\n",
    "heap=[]\n",
    "\n",
    "for i in range(len(score)):\n",
    "    heapq.heappush(heap,(-1*score[i],i))\n",
    "    \n",
    "    \n",
    "    \n",
    "for i in range(len(heap)):\n",
    "    n,p=heapq.heappop(heap)\n",
    "    if i==0:\n",
    "        score[p]=\"Gold Medal\"\n",
    "    elif i==1:\n",
    "        score[p]=\"Silver Medal\"\n",
    "    elif i==2:\n",
    "        score[p]=\"Bronze Medal\"\n",
    "    else:\n",
    "        score[p]=str(i+1)\n",
    "        \n",
    "print(score)\n",
    "    \n"
   ]
  },
  {
   "cell_type": "markdown",
   "metadata": {},
   "source": [
    "Last stone weight"
   ]
  },
  {
   "cell_type": "code",
   "execution_count": null,
   "metadata": {},
   "outputs": [
    {
     "name": "stdout",
     "output_type": "stream",
     "text": [
      "8 7\n",
      "4 2\n",
      "2 1\n",
      "1 1\n",
      "[-1]\n"
     ]
    }
   ],
   "source": [
    "stones = [2,7,4,1,8,1]\n",
    "\n",
    "heap=[]\n",
    "\n",
    "for i in range(len(stones)):\n",
    "    heapq.heappush(heap,-1*stones[i])\n",
    "\n",
    "while len(heap)>=2:\n",
    "    x=-1*(heapq.heappop(heap))\n",
    "    y=-1*(heapq.heappop(heap))\n",
    "    print(x,y)\n",
    "    if x>y:\n",
    "        heapq.heappush(heap,-1*(x-y))\n",
    "if heap:\n",
    "    return -1*heap[0]\n",
    "else:\n",
    "    return 0\n"
   ]
  },
  {
   "cell_type": "markdown",
   "metadata": {},
   "source": [
    "Find the Kth Largest Integer in the Array\n"
   ]
  },
  {
   "cell_type": "code",
   "execution_count": 33,
   "metadata": {},
   "outputs": [
    {
     "name": "stdout",
     "output_type": "stream",
     "text": [
      "1\n"
     ]
    }
   ],
   "source": [
    "nums =[\"0\",\"1\",\"1\"] \n",
    "k = 2\n",
    "\n",
    "\n",
    "heap=[]\n",
    "\n",
    "for n in nums:\n",
    "    heapq.heappush(heap,int(n))\n",
    "    \n",
    "    if len(heap)>k:\n",
    "        heapq.heappop(heap)\n",
    "        \n",
    "print(heap[0])\n",
    "    \n",
    "\n"
   ]
  },
  {
   "cell_type": "markdown",
   "metadata": {},
   "source": [
    "658. Find K Closest Elements\n"
   ]
  },
  {
   "cell_type": "code",
   "execution_count": null,
   "metadata": {},
   "outputs": [
    {
     "name": "stdout",
     "output_type": "stream",
     "text": [
      "(-2, -5)\n",
      "1\n",
      "4\n",
      "3\n",
      "2\n",
      "[1, 2, 3, 4]\n"
     ]
    }
   ],
   "source": [
    "import heapq\n",
    "arr = [1,2,3,4,5]\n",
    "k = 4\n",
    "x = 3\n",
    "\n",
    "\n",
    "heap=[]\n",
    "\n",
    "\n",
    "for i in range(len(arr)):\n",
    "    dis=abs(arr[i]-x)\n",
    "    \n",
    "    heapq.heappush(heap,(-1*dis,-arr[i]))\n",
    "    \n",
    "    if len(heap)>k:\n",
    "        heapq.heappop(heap)\n",
    "    \n",
    "for x,y in heap:\n",
    "    print(-y)\n",
    "\n",
    "ans=[-y for x,y in heap]\n",
    "ans.sort()\n",
    "print(ans)\n"
   ]
  },
  {
   "cell_type": "code",
   "execution_count": null,
   "metadata": {},
   "outputs": [
    {
     "name": "stdout",
     "output_type": "stream",
     "text": [
      "[[1, 1], [1, 1]]\n"
     ]
    }
   ],
   "source": [
    "nums1 = [1,1,2]\n",
    "nums2 = [1,2,3]\n",
    "k = 2\n",
    "ans=[]\n",
    "\n",
    "while len(nums1) and len(nums2):\n",
    "    if nums1[0]<nums2[0]:\n",
    "        for i in range(len(nums2)):\n",
    "            ans.append([nums1[0],nums2[i]])\n",
    "            if len(ans)==k:\n",
    "                break\n",
    "        nums1.pop(0)\n",
    "    else :\n",
    "        for i in range(len(nums1)):\n",
    "            ans.append([nums1[i],nums2[0]])\n",
    "            if len(ans)==k:\n",
    "                break\n",
    "        nums2.pop(0)\n",
    "        \n",
    "    if len(ans)>=k:\n",
    "        break\n",
    "        \n",
    "    \n",
    "print(ans)\n"
   ]
  },
  {
   "cell_type": "code",
   "execution_count": null,
   "metadata": {},
   "outputs": [
    {
     "name": "stdout",
     "output_type": "stream",
     "text": [
      "{'A': 3, 'B': 3}\n"
     ]
    }
   ],
   "source": [
    "tasks = [\"A\",\"A\",\"A\",\"B\",\"B\",\"B\"]\n",
    "n = 2\n",
    "\n",
    "\n",
    "map={}\n",
    "\n",
    "for i in range(len(tasks)):\n",
    "    if tasks[i] not in map:\n",
    "        map[tasks[i]]=1\n",
    "    else:\n",
    "        map[tasks[i]]+=1\n",
    "        \n",
    "last=-1   \n",
    "time=0\n",
    "while map:\n",
    "    for key ,value in map.items():\n",
    "        if last!=key:\n",
    "            time+=1\n",
    "            map[key]-=1\n",
    "            last=key\n",
    "            if map[key]==0:\n",
    "                del map[key]\n",
    "        else:\n",
    "            time\n",
    "\n",
    "    \n"
   ]
  },
  {
   "cell_type": "markdown",
   "metadata": {},
   "source": [
    "973. K Closest Points to Origin\n"
   ]
  },
  {
   "cell_type": "code",
   "execution_count": null,
   "metadata": {},
   "outputs": [
    {
     "name": "stdout",
     "output_type": "stream",
     "text": [
      "[(4.242640687119285, 3, 3), (5.0990195135927845, 5, -1), (4.47213595499958, -2, 4)]\n",
      "[[3, 3], [-2, 4]]\n"
     ]
    }
   ],
   "source": [
    "import math\n",
    "import heapq\n",
    "points = [[3,3],[5,-1],[-2,4]]\n",
    "\n",
    "k = 2\n",
    "x=0\n",
    "y=0\n",
    "\n",
    "heap=[]\n",
    "\n",
    "for x1,y1 in points:\n",
    "    dis=math.sqrt( (x-x1)**2 + (y-y1)**2)\n",
    "    heapq.heappush(heap,(dis,x1,y1))\n",
    "    \n",
    "    \n",
    "ans=[]\n",
    "for i in range(k):\n",
    "    dis,x,y=heapq.heappop(heap)\n",
    "    ans.append([x,y])\n",
    "print(ans)\n",
    "    \n"
   ]
  },
  {
   "cell_type": "code",
   "execution_count": null,
   "metadata": {},
   "outputs": [],
   "source": []
  }
 ],
 "metadata": {
  "kernelspec": {
   "display_name": "Python 3",
   "language": "python",
   "name": "python3"
  },
  "language_info": {
   "codemirror_mode": {
    "name": "ipython",
    "version": 3
   },
   "file_extension": ".py",
   "mimetype": "text/x-python",
   "name": "python",
   "nbconvert_exporter": "python",
   "pygments_lexer": "ipython3",
   "version": "3.12.3"
  }
 },
 "nbformat": 4,
 "nbformat_minor": 2
}
